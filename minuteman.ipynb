{
  "cells": [
    {
      "cell_type": "markdown",
      "metadata": {
        "id": "view-in-github",
        "colab_type": "text"
      },
      "source": [
        "<a href=\"https://colab.research.google.com/github/kats-david/minuteman/blob/main/minuteman.ipynb\" target=\"_parent\"><img src=\"https://colab.research.google.com/assets/colab-badge.svg\" alt=\"Open In Colab\"/></a>"
      ]
    },
    {
      "cell_type": "markdown",
      "metadata": {
        "id": "sAkUJYY7r-f-"
      },
      "source": [
        "# Install Whisper"
      ]
    },
    {
      "cell_type": "code",
      "execution_count": null,
      "metadata": {
        "id": "ESs9d5ZKr_Sa",
        "colab": {
          "base_uri": "https://localhost:8080/"
        },
        "outputId": "8aeef256-2f71-4918-ef79-75751ee58266",
        "collapsed": true
      },
      "outputs": [
        {
          "output_type": "stream",
          "name": "stdout",
          "text": [
            "Collecting git+https://github.com/openai/whisper.git\n",
            "  Cloning https://github.com/openai/whisper.git to /tmp/pip-req-build-oej0k_cb\n",
            "  Running command git clone --filter=blob:none --quiet https://github.com/openai/whisper.git /tmp/pip-req-build-oej0k_cb\n",
            "  Resolved https://github.com/openai/whisper.git to commit 90db0de1896c23cbfaf0c58bc2d30665f709f170\n",
            "  Installing build dependencies ... \u001b[?25l\u001b[?25hdone\n",
            "  Getting requirements to build wheel ... \u001b[?25l\u001b[?25hdone\n",
            "  Preparing metadata (pyproject.toml) ... \u001b[?25l\u001b[?25hdone\n",
            "Requirement already satisfied: numba in /usr/local/lib/python3.10/dist-packages (from openai-whisper==20240930) (0.60.0)\n",
            "Requirement already satisfied: numpy in /usr/local/lib/python3.10/dist-packages (from openai-whisper==20240930) (1.26.4)\n",
            "Requirement already satisfied: torch in /usr/local/lib/python3.10/dist-packages (from openai-whisper==20240930) (2.5.1+cu121)\n",
            "Requirement already satisfied: tqdm in /usr/local/lib/python3.10/dist-packages (from openai-whisper==20240930) (4.66.6)\n",
            "Requirement already satisfied: more-itertools in /usr/local/lib/python3.10/dist-packages (from openai-whisper==20240930) (10.5.0)\n",
            "Requirement already satisfied: tiktoken in /usr/local/lib/python3.10/dist-packages (from openai-whisper==20240930) (0.8.0)\n",
            "Requirement already satisfied: triton>=2.0.0 in /usr/local/lib/python3.10/dist-packages (from openai-whisper==20240930) (3.1.0)\n",
            "Requirement already satisfied: filelock in /usr/local/lib/python3.10/dist-packages (from triton>=2.0.0->openai-whisper==20240930) (3.16.1)\n",
            "Requirement already satisfied: llvmlite<0.44,>=0.43.0dev0 in /usr/local/lib/python3.10/dist-packages (from numba->openai-whisper==20240930) (0.43.0)\n",
            "Requirement already satisfied: regex>=2022.1.18 in /usr/local/lib/python3.10/dist-packages (from tiktoken->openai-whisper==20240930) (2024.9.11)\n",
            "Requirement already satisfied: requests>=2.26.0 in /usr/local/lib/python3.10/dist-packages (from tiktoken->openai-whisper==20240930) (2.32.3)\n",
            "Requirement already satisfied: typing-extensions>=4.8.0 in /usr/local/lib/python3.10/dist-packages (from torch->openai-whisper==20240930) (4.12.2)\n",
            "Requirement already satisfied: networkx in /usr/local/lib/python3.10/dist-packages (from torch->openai-whisper==20240930) (3.4.2)\n",
            "Requirement already satisfied: jinja2 in /usr/local/lib/python3.10/dist-packages (from torch->openai-whisper==20240930) (3.1.4)\n",
            "Requirement already satisfied: fsspec in /usr/local/lib/python3.10/dist-packages (from torch->openai-whisper==20240930) (2024.10.0)\n",
            "Requirement already satisfied: sympy==1.13.1 in /usr/local/lib/python3.10/dist-packages (from torch->openai-whisper==20240930) (1.13.1)\n",
            "Requirement already satisfied: mpmath<1.4,>=1.1.0 in /usr/local/lib/python3.10/dist-packages (from sympy==1.13.1->torch->openai-whisper==20240930) (1.3.0)\n",
            "Requirement already satisfied: charset-normalizer<4,>=2 in /usr/local/lib/python3.10/dist-packages (from requests>=2.26.0->tiktoken->openai-whisper==20240930) (3.4.0)\n",
            "Requirement already satisfied: idna<4,>=2.5 in /usr/local/lib/python3.10/dist-packages (from requests>=2.26.0->tiktoken->openai-whisper==20240930) (3.10)\n",
            "Requirement already satisfied: urllib3<3,>=1.21.1 in /usr/local/lib/python3.10/dist-packages (from requests>=2.26.0->tiktoken->openai-whisper==20240930) (2.2.3)\n",
            "Requirement already satisfied: certifi>=2017.4.17 in /usr/local/lib/python3.10/dist-packages (from requests>=2.26.0->tiktoken->openai-whisper==20240930) (2024.8.30)\n",
            "Requirement already satisfied: MarkupSafe>=2.0 in /usr/local/lib/python3.10/dist-packages (from jinja2->torch->openai-whisper==20240930) (3.0.2)\n",
            "Get:1 http://security.ubuntu.com/ubuntu jammy-security InRelease [129 kB]\n",
            "Hit:2 https://cloud.r-project.org/bin/linux/ubuntu jammy-cran40/ InRelease\n",
            "Hit:3 https://developer.download.nvidia.com/compute/cuda/repos/ubuntu2204/x86_64  InRelease\n",
            "Hit:4 https://r2u.stat.illinois.edu/ubuntu jammy InRelease\n",
            "Hit:5 http://archive.ubuntu.com/ubuntu jammy InRelease\n",
            "Get:6 http://archive.ubuntu.com/ubuntu jammy-updates InRelease [128 kB]\n",
            "Hit:7 https://ppa.launchpadcontent.net/deadsnakes/ppa/ubuntu jammy InRelease\n",
            "Hit:8 https://ppa.launchpadcontent.net/graphics-drivers/ppa/ubuntu jammy InRelease\n",
            "Hit:9 https://ppa.launchpadcontent.net/ubuntugis/ppa/ubuntu jammy InRelease\n",
            "Hit:10 http://archive.ubuntu.com/ubuntu jammy-backports InRelease\n",
            "Fetched 257 kB in 1s (220 kB/s)\n",
            "Reading package lists... Done\n",
            "Building dependency tree... Done\n",
            "Reading state information... Done\n",
            "55 packages can be upgraded. Run 'apt list --upgradable' to see them.\n",
            "\u001b[1;33mW: \u001b[0mSkipping acquire of configured file 'main/source/Sources' as repository 'https://r2u.stat.illinois.edu/ubuntu jammy InRelease' does not seem to provide it (sources.list entry misspelt?)\u001b[0m\n",
            "Reading package lists... Done\n",
            "Building dependency tree... Done\n",
            "Reading state information... Done\n",
            "ffmpeg is already the newest version (7:4.4.2-0ubuntu0.22.04.1).\n",
            "0 upgraded, 0 newly installed, 0 to remove and 55 not upgraded.\n"
          ]
        }
      ],
      "source": [
        "# install openai's whisper\n",
        "!pip install git+https://github.com/openai/whisper.git\n",
        "\n",
        "# update the packages\n",
        "!sudo apt update && sudo apt install ffmpeg"
      ]
    },
    {
      "cell_type": "markdown",
      "metadata": {
        "id": "VQzSCbAAsKCR"
      },
      "source": [
        "# Upload .WAV file and change the directory, then run it 👌"
      ]
    },
    {
      "cell_type": "code",
      "execution_count": null,
      "metadata": {
        "id": "nOOzLCUPsUNp",
        "collapsed": true
      },
      "outputs": [],
      "source": [
        "# Run Whisper AI:\n",
        "!whisper /content/MeetingUKNZ.m4a --model medium.en\n",
        "\n",
        "# Additional arguments:\n",
        "!whisper -h"
      ]
    },
    {
      "cell_type": "code",
      "source": [
        "from google.colab import drive\n",
        "drive.mount('/content/drive')"
      ],
      "metadata": {
        "colab": {
          "base_uri": "https://localhost:8080/"
        },
        "id": "ZQmSVZxNHh2u",
        "outputId": "c1a62415-07e0-4196-dba3-78d64bc88b45"
      },
      "execution_count": null,
      "outputs": [
        {
          "output_type": "stream",
          "name": "stdout",
          "text": [
            "Mounted at /content/drive\n"
          ]
        }
      ]
    },
    {
      "cell_type": "code",
      "source": [
        "import os\n",
        "\n",
        "project_dir = '/content/drive/MyDrive/minuteman'\n",
        "os.makedirs(project_dir, exist_ok=True)\n",
        "print(f\"Project directory: {project_dir}\")"
      ],
      "metadata": {
        "colab": {
          "base_uri": "https://localhost:8080/"
        },
        "id": "IdywBgESH0MZ",
        "outputId": "f7c6faf9-6d72-4dab-d47d-f2c79677ec80"
      },
      "execution_count": null,
      "outputs": [
        {
          "output_type": "stream",
          "name": "stdout",
          "text": [
            "Project directory: /content/drive/MyDrive/minuteman\n"
          ]
        }
      ]
    },
    {
      "cell_type": "code",
      "source": [
        "!pip install gradio"
      ],
      "metadata": {
        "colab": {
          "base_uri": "https://localhost:8080/"
        },
        "id": "3j5D4YddIPkP",
        "outputId": "d3bf9d52-17e0-46ca-893a-e91e766e4cb6"
      },
      "execution_count": null,
      "outputs": [
        {
          "output_type": "stream",
          "name": "stdout",
          "text": [
            "Collecting gradio\n",
            "  Downloading gradio-5.8.0-py3-none-any.whl.metadata (16 kB)\n",
            "Collecting aiofiles<24.0,>=22.0 (from gradio)\n",
            "  Downloading aiofiles-23.2.1-py3-none-any.whl.metadata (9.7 kB)\n",
            "Requirement already satisfied: anyio<5.0,>=3.0 in /usr/local/lib/python3.10/dist-packages (from gradio) (3.7.1)\n",
            "Collecting fastapi<1.0,>=0.115.2 (from gradio)\n",
            "  Downloading fastapi-0.115.6-py3-none-any.whl.metadata (27 kB)\n",
            "Collecting ffmpy (from gradio)\n",
            "  Downloading ffmpy-0.4.0-py3-none-any.whl.metadata (2.9 kB)\n",
            "Collecting gradio-client==1.5.1 (from gradio)\n",
            "  Downloading gradio_client-1.5.1-py3-none-any.whl.metadata (7.1 kB)\n",
            "Requirement already satisfied: httpx>=0.24.1 in /usr/local/lib/python3.10/dist-packages (from gradio) (0.28.0)\n",
            "Requirement already satisfied: huggingface-hub>=0.25.1 in /usr/local/lib/python3.10/dist-packages (from gradio) (0.26.3)\n",
            "Requirement already satisfied: jinja2<4.0 in /usr/local/lib/python3.10/dist-packages (from gradio) (3.1.4)\n",
            "Collecting markupsafe~=2.0 (from gradio)\n",
            "  Downloading MarkupSafe-2.1.5-cp310-cp310-manylinux_2_17_x86_64.manylinux2014_x86_64.whl.metadata (3.0 kB)\n",
            "Requirement already satisfied: numpy<3.0,>=1.0 in /usr/local/lib/python3.10/dist-packages (from gradio) (1.26.4)\n",
            "Requirement already satisfied: orjson~=3.0 in /usr/local/lib/python3.10/dist-packages (from gradio) (3.10.12)\n",
            "Requirement already satisfied: packaging in /usr/local/lib/python3.10/dist-packages (from gradio) (24.2)\n",
            "Requirement already satisfied: pandas<3.0,>=1.0 in /usr/local/lib/python3.10/dist-packages (from gradio) (2.2.2)\n",
            "Requirement already satisfied: pillow<12.0,>=8.0 in /usr/local/lib/python3.10/dist-packages (from gradio) (11.0.0)\n",
            "Requirement already satisfied: pydantic>=2.0 in /usr/local/lib/python3.10/dist-packages (from gradio) (2.10.3)\n",
            "Collecting pydub (from gradio)\n",
            "  Downloading pydub-0.25.1-py2.py3-none-any.whl.metadata (1.4 kB)\n",
            "Collecting python-multipart>=0.0.18 (from gradio)\n",
            "  Downloading python_multipart-0.0.19-py3-none-any.whl.metadata (1.8 kB)\n",
            "Requirement already satisfied: pyyaml<7.0,>=5.0 in /usr/local/lib/python3.10/dist-packages (from gradio) (6.0.2)\n",
            "Collecting ruff>=0.2.2 (from gradio)\n",
            "  Downloading ruff-0.8.2-py3-none-manylinux_2_17_x86_64.manylinux2014_x86_64.whl.metadata (25 kB)\n",
            "Collecting safehttpx<0.2.0,>=0.1.6 (from gradio)\n",
            "  Downloading safehttpx-0.1.6-py3-none-any.whl.metadata (4.2 kB)\n",
            "Collecting semantic-version~=2.0 (from gradio)\n",
            "  Downloading semantic_version-2.10.0-py2.py3-none-any.whl.metadata (9.7 kB)\n",
            "Collecting starlette<1.0,>=0.40.0 (from gradio)\n",
            "  Downloading starlette-0.41.3-py3-none-any.whl.metadata (6.0 kB)\n",
            "Collecting tomlkit<0.14.0,>=0.12.0 (from gradio)\n",
            "  Downloading tomlkit-0.13.2-py3-none-any.whl.metadata (2.7 kB)\n",
            "Requirement already satisfied: typer<1.0,>=0.12 in /usr/local/lib/python3.10/dist-packages (from gradio) (0.15.0)\n",
            "Requirement already satisfied: typing-extensions~=4.0 in /usr/local/lib/python3.10/dist-packages (from gradio) (4.12.2)\n",
            "Collecting uvicorn>=0.14.0 (from gradio)\n",
            "  Downloading uvicorn-0.32.1-py3-none-any.whl.metadata (6.6 kB)\n",
            "Requirement already satisfied: fsspec in /usr/local/lib/python3.10/dist-packages (from gradio-client==1.5.1->gradio) (2024.10.0)\n",
            "Collecting websockets<15.0,>=10.0 (from gradio-client==1.5.1->gradio)\n",
            "  Downloading websockets-14.1-cp310-cp310-manylinux_2_5_x86_64.manylinux1_x86_64.manylinux_2_17_x86_64.manylinux2014_x86_64.whl.metadata (6.7 kB)\n",
            "Requirement already satisfied: idna>=2.8 in /usr/local/lib/python3.10/dist-packages (from anyio<5.0,>=3.0->gradio) (3.10)\n",
            "Requirement already satisfied: sniffio>=1.1 in /usr/local/lib/python3.10/dist-packages (from anyio<5.0,>=3.0->gradio) (1.3.1)\n",
            "Requirement already satisfied: exceptiongroup in /usr/local/lib/python3.10/dist-packages (from anyio<5.0,>=3.0->gradio) (1.2.2)\n",
            "Requirement already satisfied: certifi in /usr/local/lib/python3.10/dist-packages (from httpx>=0.24.1->gradio) (2024.8.30)\n",
            "Requirement already satisfied: httpcore==1.* in /usr/local/lib/python3.10/dist-packages (from httpx>=0.24.1->gradio) (1.0.7)\n",
            "Requirement already satisfied: h11<0.15,>=0.13 in /usr/local/lib/python3.10/dist-packages (from httpcore==1.*->httpx>=0.24.1->gradio) (0.14.0)\n",
            "Requirement already satisfied: filelock in /usr/local/lib/python3.10/dist-packages (from huggingface-hub>=0.25.1->gradio) (3.16.1)\n",
            "Requirement already satisfied: requests in /usr/local/lib/python3.10/dist-packages (from huggingface-hub>=0.25.1->gradio) (2.32.3)\n",
            "Requirement already satisfied: tqdm>=4.42.1 in /usr/local/lib/python3.10/dist-packages (from huggingface-hub>=0.25.1->gradio) (4.66.6)\n",
            "Requirement already satisfied: python-dateutil>=2.8.2 in /usr/local/lib/python3.10/dist-packages (from pandas<3.0,>=1.0->gradio) (2.8.2)\n",
            "Requirement already satisfied: pytz>=2020.1 in /usr/local/lib/python3.10/dist-packages (from pandas<3.0,>=1.0->gradio) (2024.2)\n",
            "Requirement already satisfied: tzdata>=2022.7 in /usr/local/lib/python3.10/dist-packages (from pandas<3.0,>=1.0->gradio) (2024.2)\n",
            "Requirement already satisfied: annotated-types>=0.6.0 in /usr/local/lib/python3.10/dist-packages (from pydantic>=2.0->gradio) (0.7.0)\n",
            "Requirement already satisfied: pydantic-core==2.27.1 in /usr/local/lib/python3.10/dist-packages (from pydantic>=2.0->gradio) (2.27.1)\n",
            "Requirement already satisfied: click>=8.0.0 in /usr/local/lib/python3.10/dist-packages (from typer<1.0,>=0.12->gradio) (8.1.7)\n",
            "Requirement already satisfied: shellingham>=1.3.0 in /usr/local/lib/python3.10/dist-packages (from typer<1.0,>=0.12->gradio) (1.5.4)\n",
            "Requirement already satisfied: rich>=10.11.0 in /usr/local/lib/python3.10/dist-packages (from typer<1.0,>=0.12->gradio) (13.9.4)\n",
            "Requirement already satisfied: six>=1.5 in /usr/local/lib/python3.10/dist-packages (from python-dateutil>=2.8.2->pandas<3.0,>=1.0->gradio) (1.16.0)\n",
            "Requirement already satisfied: markdown-it-py>=2.2.0 in /usr/local/lib/python3.10/dist-packages (from rich>=10.11.0->typer<1.0,>=0.12->gradio) (3.0.0)\n",
            "Requirement already satisfied: pygments<3.0.0,>=2.13.0 in /usr/local/lib/python3.10/dist-packages (from rich>=10.11.0->typer<1.0,>=0.12->gradio) (2.18.0)\n",
            "Requirement already satisfied: charset-normalizer<4,>=2 in /usr/local/lib/python3.10/dist-packages (from requests->huggingface-hub>=0.25.1->gradio) (3.4.0)\n",
            "Requirement already satisfied: urllib3<3,>=1.21.1 in /usr/local/lib/python3.10/dist-packages (from requests->huggingface-hub>=0.25.1->gradio) (2.2.3)\n",
            "Requirement already satisfied: mdurl~=0.1 in /usr/local/lib/python3.10/dist-packages (from markdown-it-py>=2.2.0->rich>=10.11.0->typer<1.0,>=0.12->gradio) (0.1.2)\n",
            "Downloading gradio-5.8.0-py3-none-any.whl (57.2 MB)\n",
            "\u001b[2K   \u001b[90m━━━━━━━━━━━━━━━━━━━━━━━━━━━━━━━━━━━━━━━━\u001b[0m \u001b[32m57.2/57.2 MB\u001b[0m \u001b[31m11.9 MB/s\u001b[0m eta \u001b[36m0:00:00\u001b[0m\n",
            "\u001b[?25hDownloading gradio_client-1.5.1-py3-none-any.whl (320 kB)\n",
            "\u001b[2K   \u001b[90m━━━━━━━━━━━━━━━━━━━━━━━━━━━━━━━━━━━━━━━━\u001b[0m \u001b[32m320.2/320.2 kB\u001b[0m \u001b[31m20.8 MB/s\u001b[0m eta \u001b[36m0:00:00\u001b[0m\n",
            "\u001b[?25hDownloading aiofiles-23.2.1-py3-none-any.whl (15 kB)\n",
            "Downloading fastapi-0.115.6-py3-none-any.whl (94 kB)\n",
            "\u001b[2K   \u001b[90m━━━━━━━━━━━━━━━━━━━━━━━━━━━━━━━━━━━━━━━━\u001b[0m \u001b[32m94.8/94.8 kB\u001b[0m \u001b[31m8.1 MB/s\u001b[0m eta \u001b[36m0:00:00\u001b[0m\n",
            "\u001b[?25hDownloading MarkupSafe-2.1.5-cp310-cp310-manylinux_2_17_x86_64.manylinux2014_x86_64.whl (25 kB)\n",
            "Downloading python_multipart-0.0.19-py3-none-any.whl (24 kB)\n",
            "Downloading ruff-0.8.2-py3-none-manylinux_2_17_x86_64.manylinux2014_x86_64.whl (11.2 MB)\n",
            "\u001b[2K   \u001b[90m━━━━━━━━━━━━━━━━━━━━━━━━━━━━━━━━━━━━━━━━\u001b[0m \u001b[32m11.2/11.2 MB\u001b[0m \u001b[31m70.4 MB/s\u001b[0m eta \u001b[36m0:00:00\u001b[0m\n",
            "\u001b[?25hDownloading safehttpx-0.1.6-py3-none-any.whl (8.7 kB)\n",
            "Downloading semantic_version-2.10.0-py2.py3-none-any.whl (15 kB)\n",
            "Downloading starlette-0.41.3-py3-none-any.whl (73 kB)\n",
            "\u001b[2K   \u001b[90m━━━━━━━━━━━━━━━━━━━━━━━━━━━━━━━━━━━━━━━━\u001b[0m \u001b[32m73.2/73.2 kB\u001b[0m \u001b[31m5.8 MB/s\u001b[0m eta \u001b[36m0:00:00\u001b[0m\n",
            "\u001b[?25hDownloading tomlkit-0.13.2-py3-none-any.whl (37 kB)\n",
            "Downloading uvicorn-0.32.1-py3-none-any.whl (63 kB)\n",
            "\u001b[2K   \u001b[90m━━━━━━━━━━━━━━━━━━━━━━━━━━━━━━━━━━━━━━━━\u001b[0m \u001b[32m63.8/63.8 kB\u001b[0m \u001b[31m4.8 MB/s\u001b[0m eta \u001b[36m0:00:00\u001b[0m\n",
            "\u001b[?25hDownloading ffmpy-0.4.0-py3-none-any.whl (5.8 kB)\n",
            "Downloading pydub-0.25.1-py2.py3-none-any.whl (32 kB)\n",
            "Downloading websockets-14.1-cp310-cp310-manylinux_2_5_x86_64.manylinux1_x86_64.manylinux_2_17_x86_64.manylinux2014_x86_64.whl (168 kB)\n",
            "\u001b[2K   \u001b[90m━━━━━━━━━━━━━━━━━━━━━━━━━━━━━━━━━━━━━━━━\u001b[0m \u001b[32m168.2/168.2 kB\u001b[0m \u001b[31m13.0 MB/s\u001b[0m eta \u001b[36m0:00:00\u001b[0m\n",
            "\u001b[?25hInstalling collected packages: pydub, websockets, uvicorn, tomlkit, semantic-version, ruff, python-multipart, markupsafe, ffmpy, aiofiles, starlette, safehttpx, gradio-client, fastapi, gradio\n",
            "  Attempting uninstall: markupsafe\n",
            "    Found existing installation: MarkupSafe 3.0.2\n",
            "    Uninstalling MarkupSafe-3.0.2:\n",
            "      Successfully uninstalled MarkupSafe-3.0.2\n",
            "Successfully installed aiofiles-23.2.1 fastapi-0.115.6 ffmpy-0.4.0 gradio-5.8.0 gradio-client-1.5.1 markupsafe-2.1.5 pydub-0.25.1 python-multipart-0.0.19 ruff-0.8.2 safehttpx-0.1.6 semantic-version-2.10.0 starlette-0.41.3 tomlkit-0.13.2 uvicorn-0.32.1 websockets-14.1\n"
          ]
        }
      ]
    },
    {
      "cell_type": "code",
      "source": [
        "import whisper\n",
        "import gradio as gr\n",
        "import os\n",
        "\n",
        "# Test model loading\n",
        "try:\n",
        "    model = whisper.load_model(\"base\")\n",
        "    print(\"Whisper model loaded successfully.\")\n",
        "except Exception as e:\n",
        "    print(f\"Error loading Whisper model: {e}\")\n",
        "\n",
        "# Function to Transcribe Audio\n",
        "def transcribe_audio(audio):\n",
        "    try:\n",
        "        # Gradio passes the file path of the uploaded audio\n",
        "        audio_path = audio  # This is already the path to the audio file\n",
        "        print(f\"Audio file received at: {audio_path}\")\n",
        "\n",
        "        # Use the file path directly in Whisper transcription\n",
        "        result = model.transcribe(audio_path)\n",
        "        print(\"Transcription result:\", result)\n",
        "        return result[\"text\"]\n",
        "    except Exception as e:\n",
        "        return f\"Error during transcription: {str(e)}\"\n",
        "\n",
        "# Gradio Interface\n",
        "interface = gr.Interface(\n",
        "    fn=transcribe_audio,\n",
        "    inputs=gr.Audio(type=\"filepath\", label=\"Upload Audio\"),  # Updated type\n",
        "    outputs=gr.Textbox(label=\"Transcribed Text\"),\n",
        "    title=\"Whisper Speech-to-Text\",\n",
        "    description=\"Upload an audio file to get a transcription using OpenAI's Whisper.\"\n",
        ")\n",
        "\n",
        "# Launch Interface\n",
        "interface.launch(share=True, debug=True)"
      ],
      "metadata": {
        "colab": {
          "base_uri": "https://localhost:8080/",
          "height": 1000
        },
        "id": "WsUxkZgVH3r8",
        "outputId": "702bc054-7af2-4755-852e-1ee96da2a297"
      },
      "execution_count": null,
      "outputs": [
        {
          "output_type": "stream",
          "name": "stdout",
          "text": [
            "Whisper model loaded successfully.\n",
            "Colab notebook detected. This cell will run indefinitely so that you can see errors and logs. To turn off, set debug=False in launch().\n",
            "* Running on public URL: https://2c6570d6c97fcb52f7.gradio.live\n",
            "\n",
            "This share link expires in 72 hours. For free permanent hosting and GPU upgrades, run `gradio deploy` from the terminal in the working directory to deploy to Hugging Face Spaces (https://huggingface.co/spaces)\n"
          ]
        },
        {
          "output_type": "display_data",
          "data": {
            "text/plain": [
              "<IPython.core.display.HTML object>"
            ],
            "text/html": [
              "<div><iframe src=\"https://2c6570d6c97fcb52f7.gradio.live\" width=\"100%\" height=\"500\" allow=\"autoplay; camera; microphone; clipboard-read; clipboard-write;\" frameborder=\"0\" allowfullscreen></iframe></div>"
            ]
          },
          "metadata": {}
        },
        {
          "output_type": "stream",
          "name": "stdout",
          "text": [
            "Audio file received at: /tmp/gradio/892f64327e880793306d67899c84cae8a4a114569fce70c7f66c42481f575544/output_audio.mp3\n"
          ]
        },
        {
          "output_type": "stream",
          "name": "stderr",
          "text": [
            "/usr/local/lib/python3.10/dist-packages/whisper/transcribe.py:132: UserWarning: FP16 is not supported on CPU; using FP32 instead\n",
            "  warnings.warn(\"FP16 is not supported on CPU; using FP32 instead\")\n"
          ]
        },
        {
          "output_type": "stream",
          "name": "stdout",
          "text": [
            "Transcription result: {'text': ' Hello, how are you doing today?', 'segments': [{'id': 0, 'seek': 0, 'start': 0.0, 'end': 2.0, 'text': ' Hello, how are you doing today?', 'tokens': [50364, 2425, 11, 577, 366, 291, 884, 965, 30, 50464], 'temperature': 0.0, 'avg_logprob': -0.27303179827603424, 'compression_ratio': 0.7948717948717948, 'no_speech_prob': 0.013560579158365726}], 'language': 'en'}\n",
            "Audio file received at: None\n"
          ]
        },
        {
          "output_type": "stream",
          "name": "stderr",
          "text": [
            "/usr/local/lib/python3.10/dist-packages/whisper/transcribe.py:132: UserWarning: FP16 is not supported on CPU; using FP32 instead\n",
            "  warnings.warn(\"FP16 is not supported on CPU; using FP32 instead\")\n"
          ]
        },
        {
          "output_type": "stream",
          "name": "stdout",
          "text": [
            "Audio file received at: None\n",
            "Created dataset file at: .gradio/flagged/dataset1.csv\n",
            "Audio file received at: /tmp/gradio/7c425bb49880a25c93c8229947e6d8c36497f91d66ca5dd806958e773e793f68/Trial.m4a\n",
            "Transcription result: {'text': ' This is a trial for Katerba to figure out if it works.', 'segments': [{'id': 0, 'seek': 0, 'start': 0.0, 'end': 5.0, 'text': ' This is a trial for Katerba to figure out if it works.', 'tokens': [50364, 639, 307, 257, 7308, 337, 591, 771, 4231, 281, 2573, 484, 498, 309, 1985, 13, 50614], 'temperature': 0.0, 'avg_logprob': -0.4755701488918728, 'compression_ratio': 0.9152542372881356, 'no_speech_prob': 0.13859903812408447}], 'language': 'en'}\n"
          ]
        },
        {
          "output_type": "stream",
          "name": "stderr",
          "text": [
            "ERROR:    Exception in ASGI application\n",
            "Traceback (most recent call last):\n",
            "  File \"/usr/local/lib/python3.10/dist-packages/uvicorn/protocols/http/h11_impl.py\", line 403, in run_asgi\n",
            "    result = await app(  # type: ignore[func-returns-value]\n",
            "  File \"/usr/local/lib/python3.10/dist-packages/uvicorn/middleware/proxy_headers.py\", line 60, in __call__\n",
            "    return await self.app(scope, receive, send)\n",
            "  File \"/usr/local/lib/python3.10/dist-packages/fastapi/applications.py\", line 1054, in __call__\n",
            "    await super().__call__(scope, receive, send)\n",
            "  File \"/usr/local/lib/python3.10/dist-packages/starlette/applications.py\", line 113, in __call__\n",
            "    await self.middleware_stack(scope, receive, send)\n",
            "  File \"/usr/local/lib/python3.10/dist-packages/starlette/middleware/errors.py\", line 187, in __call__\n",
            "    raise exc\n",
            "  File \"/usr/local/lib/python3.10/dist-packages/starlette/middleware/errors.py\", line 165, in __call__\n",
            "    await self.app(scope, receive, _send)\n",
            "  File \"/usr/local/lib/python3.10/dist-packages/gradio/route_utils.py\", line 796, in __call__\n",
            "    await self.simple_response(scope, receive, send, request_headers=headers)\n",
            "  File \"/usr/local/lib/python3.10/dist-packages/gradio/route_utils.py\", line 812, in simple_response\n",
            "    await self.app(scope, receive, send)\n",
            "  File \"/usr/local/lib/python3.10/dist-packages/starlette/middleware/exceptions.py\", line 62, in __call__\n",
            "    await wrap_app_handling_exceptions(self.app, conn)(scope, receive, send)\n",
            "  File \"/usr/local/lib/python3.10/dist-packages/starlette/_exception_handler.py\", line 53, in wrapped_app\n",
            "    raise exc\n",
            "  File \"/usr/local/lib/python3.10/dist-packages/starlette/_exception_handler.py\", line 42, in wrapped_app\n",
            "    await app(scope, receive, sender)\n",
            "  File \"/usr/local/lib/python3.10/dist-packages/starlette/routing.py\", line 715, in __call__\n",
            "    await self.middleware_stack(scope, receive, send)\n",
            "  File \"/usr/local/lib/python3.10/dist-packages/starlette/routing.py\", line 735, in app\n",
            "    await route.handle(scope, receive, send)\n",
            "  File \"/usr/local/lib/python3.10/dist-packages/starlette/routing.py\", line 288, in handle\n",
            "    await self.app(scope, receive, send)\n",
            "  File \"/usr/local/lib/python3.10/dist-packages/starlette/routing.py\", line 76, in app\n",
            "    await wrap_app_handling_exceptions(app, request)(scope, receive, send)\n",
            "  File \"/usr/local/lib/python3.10/dist-packages/starlette/_exception_handler.py\", line 53, in wrapped_app\n",
            "    raise exc\n",
            "  File \"/usr/local/lib/python3.10/dist-packages/starlette/_exception_handler.py\", line 42, in wrapped_app\n",
            "    await app(scope, receive, sender)\n",
            "  File \"/usr/local/lib/python3.10/dist-packages/starlette/routing.py\", line 73, in app\n",
            "    response = await f(request)\n",
            "  File \"/usr/local/lib/python3.10/dist-packages/fastapi/routing.py\", line 301, in app\n",
            "    raw_response = await run_endpoint_function(\n",
            "  File \"/usr/local/lib/python3.10/dist-packages/fastapi/routing.py\", line 212, in run_endpoint_function\n",
            "    return await dependant.call(**values)\n",
            "  File \"/usr/local/lib/python3.10/dist-packages/gradio/routes.py\", line 1373, in upload_file\n",
            "    form = await multipart_parser.parse()\n",
            "  File \"/usr/local/lib/python3.10/dist-packages/gradio/route_utils.py\", line 650, in parse\n",
            "    async for chunk in self.stream:\n",
            "  File \"/usr/local/lib/python3.10/dist-packages/starlette/requests.py\", line 235, in stream\n",
            "    raise ClientDisconnect()\n",
            "starlette.requests.ClientDisconnect\n"
          ]
        },
        {
          "output_type": "stream",
          "name": "stdout",
          "text": [
            "Audio file received at: /tmp/gradio/96861ff8a5bc7a80da1f44b35b79dc5a91c904d618f2749328ebdc184c6e345f/Pitching trial 1.m4a\n"
          ]
        },
        {
          "output_type": "stream",
          "name": "stderr",
          "text": [
            "/usr/local/lib/python3.10/dist-packages/whisper/transcribe.py:132: UserWarning: FP16 is not supported on CPU; using FP32 instead\n",
            "  warnings.warn(\"FP16 is not supported on CPU; using FP32 instead\")\n"
          ]
        },
        {
          "output_type": "stream",
          "name": "stdout",
          "text": [
            "Transcription result: {'text': \" How to relax this effect on cleaning hospitals to cure your next infections. Did you know your source of arthritemption could be your death sentence? The peak on the right is for my own hospital. Sure in how crowded those hospitals are. Hospital in Africa are crowded. To the extent that 36% of all infections are in the blood bed space. So these have either fight for the flow or for a few beds around. The condition is tight to the extent that when the patient is deceased or dismissed, they will just throw the mattress over and place a new patient immediately. This has created a very good ground for cross-contamination infections from one patient to another. With over 40% of the patients getting infected with these infections, that is 2 out of every 5 patients getting infections. That not being enough, 56% of all causes of a near-townal death is caused by hospital-sociated infections. This is a bad report by who? And billions of money being spent. But this is no more with a plate of 250-fone and meters energy able to damage the DNA of these pathogens, we can be able to eliminate these pathogens. So this plate has been incorporated into a machine or a robot which has been designed to deliver 99% efficiency of automation reliability and diversity. So the machine by suiting this infection is going to be able to curb contaminations of the air-based neising or coughing, contamination of objects by food, blood or other body fluids. In the end, even contamination by pests, which is a rare case, in the end we will have a cleaning environment and a safe place for treatment. How do we beat our competition? How can we compete with other chemical disinfectants, which kill all the specific microorganisms? So we have a variety, we kill all surface and immediate organisms. So we don't have a specific range, we kill all. Then we require a few operational level, like from 2 to 5, to disinfect the whole hospital. Whereas this chemical disinfectants require about 20 people who may be quite expensive to employ to disinfect the whole hospital, we take a short attain to disinfect. We take 5 to 10 minutes to disinfect the whole room, whereby if you look at current competition, they take 30 to 50 minutes to disinfect the same room. This is the fun bit, we achieve compared to them. Our unit cell goes for 3 million organan shaneaks. So if I was to compare it with a hospital or a similar institution using the same disinfectant, you detect 10 liters of disinfectant, whatever it is, let's say you're buying your variety, but all of them are mounting to 10 liters, at least that was. Then if each goes for 10,000, and you're buying for a whole year, you'd spend 3,300 and 60,000, which leaves you the imagine of 360,000, which is quite a lot that you are serving with this device. So for one, if it's guaranteed you 8,000 hours, it can go beyond 8,000 hours, but our guarantee will hold you for that. Then side effects to pass on your equipment, pass on your nail and your equipment. We have no side effects to materials. We are not flammable, we're in the moment of friendly, which is not the case with chemical disinfectants. They cause erectations to skin, they cause corrosion to hospital equipment. So in case of a fire, you really need to be in that place. So people are already buying into the technology. This was a testimony from Dr. Maria Nanyung at the head of Ensemblea Homecare. How ready are we? So we have already confirmed the steward and we're working with the Uganda Tomecanagic Center for the regulation, and they are really supporting us. We have developed the first prototype, which is shown there, that is in the lab. We are taking six months into the rapid prototyping and developing the next prototype, which we are going to use in piloting. So actually two out of 165 hospitals in Uganda are willing to try out this technology for during our piloting. So we are looking towards to do that piloting and getting feedback. And the next two years we will hope to reach the market or sooner. So we'll have after that 12 months piloting, we're hoping to get the market. So our final structure. So how did we arrive at the press being the remuner? So, I have discussed mainly include rent for where to set up the whole thing. Then we need raw materials which take a lot of work, but it calls to have to ship them. Then shipping costs are a very important part of our transport and also investing a lot in the market. Then we'll just show validation and tax. So all of that, total capital would need around 4 million Uganda shootings, which is around some years dollars. Then how many needs do we need to get into break even? We need to own a seven units actually. Seven. So actually one hospital can make us break even as that making profit. So apparently looking for 10,000 in seed funding. 10,000 is aimed at finding out prototyping, finding out piloting into these hospitals, and validating getting the necessary certifications to begin selling the product. Our team. Our team is made of many young engineers who are very curious and want to have their first technologies to the market. So have a medical worker, a medical student from the school of health sciences, and three engineers. And our devices are currently Mr. Brand, who has succeeded actually in Mama Ope, Kawama, how have been, who has done a lot of innovations? Thank you. So we look for it to see. I live by saying a clean place is a safe place, and a safe place is a health place. So we need this technology to make Uganda a better place.\", 'segments': [{'id': 0, 'seek': 0, 'start': 0.0, 'end': 19.0, 'text': ' How to relax this effect on cleaning hospitals to cure your next infections.', 'tokens': [50364, 1012, 281, 5789, 341, 1802, 322, 8924, 13014, 281, 13698, 428, 958, 19478, 13, 51314], 'temperature': 0.0, 'avg_logprob': -0.6191078821818033, 'compression_ratio': 1.3732394366197183, 'no_speech_prob': 0.4640200436115265}, {'id': 1, 'seek': 0, 'start': 19.0, 'end': 24.0, 'text': ' Did you know your source of arthritemption could be your death sentence?', 'tokens': [51314, 2589, 291, 458, 428, 4009, 295, 31546, 3210, 26033, 727, 312, 428, 2966, 8174, 30, 51564], 'temperature': 0.0, 'avg_logprob': -0.6191078821818033, 'compression_ratio': 1.3732394366197183, 'no_speech_prob': 0.4640200436115265}, {'id': 2, 'seek': 0, 'start': 24.0, 'end': 28.0, 'text': ' The peak on the right is for my own hospital.', 'tokens': [51564, 440, 10651, 322, 264, 558, 307, 337, 452, 1065, 4530, 13, 51764], 'temperature': 0.0, 'avg_logprob': -0.6191078821818033, 'compression_ratio': 1.3732394366197183, 'no_speech_prob': 0.4640200436115265}, {'id': 3, 'seek': 2800, 'start': 28.0, 'end': 31.0, 'text': ' Sure in how crowded those hospitals are.', 'tokens': [50364, 4894, 294, 577, 21634, 729, 13014, 366, 13, 50514], 'temperature': 0.0, 'avg_logprob': -0.39695542581965415, 'compression_ratio': 1.6576576576576576, 'no_speech_prob': 0.10282059013843536}, {'id': 4, 'seek': 2800, 'start': 31.0, 'end': 33.0, 'text': ' Hospital in Africa are crowded.', 'tokens': [50514, 15645, 294, 7349, 366, 21634, 13, 50614], 'temperature': 0.0, 'avg_logprob': -0.39695542581965415, 'compression_ratio': 1.6576576576576576, 'no_speech_prob': 0.10282059013843536}, {'id': 5, 'seek': 2800, 'start': 33.0, 'end': 38.0, 'text': ' To the extent that 36% of all infections are in the blood bed space.', 'tokens': [50614, 1407, 264, 8396, 300, 8652, 4, 295, 439, 19478, 366, 294, 264, 3390, 2901, 1901, 13, 50864], 'temperature': 0.0, 'avg_logprob': -0.39695542581965415, 'compression_ratio': 1.6576576576576576, 'no_speech_prob': 0.10282059013843536}, {'id': 6, 'seek': 2800, 'start': 38.0, 'end': 43.0, 'text': ' So these have either fight for the flow or for a few beds around.', 'tokens': [50864, 407, 613, 362, 2139, 2092, 337, 264, 3095, 420, 337, 257, 1326, 18068, 926, 13, 51114], 'temperature': 0.0, 'avg_logprob': -0.39695542581965415, 'compression_ratio': 1.6576576576576576, 'no_speech_prob': 0.10282059013843536}, {'id': 7, 'seek': 2800, 'start': 43.0, 'end': 50.0, 'text': ' The condition is tight to the extent that when the patient is deceased or dismissed,', 'tokens': [51114, 440, 4188, 307, 4524, 281, 264, 8396, 300, 562, 264, 4537, 307, 33156, 420, 29970, 11, 51464], 'temperature': 0.0, 'avg_logprob': -0.39695542581965415, 'compression_ratio': 1.6576576576576576, 'no_speech_prob': 0.10282059013843536}, {'id': 8, 'seek': 2800, 'start': 50.0, 'end': 55.0, 'text': ' they will just throw the mattress over and place a new patient immediately.', 'tokens': [51464, 436, 486, 445, 3507, 264, 20625, 670, 293, 1081, 257, 777, 4537, 4258, 13, 51714], 'temperature': 0.0, 'avg_logprob': -0.39695542581965415, 'compression_ratio': 1.6576576576576576, 'no_speech_prob': 0.10282059013843536}, {'id': 9, 'seek': 5500, 'start': 56.0, 'end': 63.0, 'text': ' This has created a very good ground for cross-contamination infections from one patient to another.', 'tokens': [50414, 639, 575, 2942, 257, 588, 665, 2727, 337, 3278, 12, 9000, 335, 2486, 19478, 490, 472, 4537, 281, 1071, 13, 50764], 'temperature': 0.0, 'avg_logprob': -0.20235812664031982, 'compression_ratio': 1.65, 'no_speech_prob': 0.06580948829650879}, {'id': 10, 'seek': 5500, 'start': 63.0, 'end': 68.0, 'text': ' With over 40% of the patients getting infected with these infections,', 'tokens': [50764, 2022, 670, 3356, 4, 295, 264, 4209, 1242, 15414, 365, 613, 19478, 11, 51014], 'temperature': 0.0, 'avg_logprob': -0.20235812664031982, 'compression_ratio': 1.65, 'no_speech_prob': 0.06580948829650879}, {'id': 11, 'seek': 5500, 'start': 68.0, 'end': 74.0, 'text': ' that is 2 out of every 5 patients getting infections.', 'tokens': [51014, 300, 307, 568, 484, 295, 633, 1025, 4209, 1242, 19478, 13, 51314], 'temperature': 0.0, 'avg_logprob': -0.20235812664031982, 'compression_ratio': 1.65, 'no_speech_prob': 0.06580948829650879}, {'id': 12, 'seek': 5500, 'start': 74.0, 'end': 83.0, 'text': ' That not being enough, 56% of all causes of a near-townal death is caused by hospital-sociated infections.', 'tokens': [51314, 663, 406, 885, 1547, 11, 19687, 4, 295, 439, 7700, 295, 257, 2651, 12, 30401, 304, 2966, 307, 7008, 538, 4530, 12, 3276, 770, 19478, 13, 51764], 'temperature': 0.0, 'avg_logprob': -0.20235812664031982, 'compression_ratio': 1.65, 'no_speech_prob': 0.06580948829650879}, {'id': 13, 'seek': 8300, 'start': 83.0, 'end': 86.0, 'text': ' This is a bad report by who?', 'tokens': [50364, 639, 307, 257, 1578, 2275, 538, 567, 30, 50514], 'temperature': 0.0, 'avg_logprob': -0.32120824839970835, 'compression_ratio': 1.4759358288770053, 'no_speech_prob': 0.0873517245054245}, {'id': 14, 'seek': 8300, 'start': 86.0, 'end': 90.0, 'text': ' And billions of money being spent.', 'tokens': [50514, 400, 17375, 295, 1460, 885, 4418, 13, 50714], 'temperature': 0.0, 'avg_logprob': -0.32120824839970835, 'compression_ratio': 1.4759358288770053, 'no_speech_prob': 0.0873517245054245}, {'id': 15, 'seek': 8300, 'start': 90.0, 'end': 98.0, 'text': ' But this is no more with a plate of 250-fone and meters energy', 'tokens': [50714, 583, 341, 307, 572, 544, 365, 257, 5924, 295, 11650, 12, 69, 546, 293, 8146, 2281, 51114], 'temperature': 0.0, 'avg_logprob': -0.32120824839970835, 'compression_ratio': 1.4759358288770053, 'no_speech_prob': 0.0873517245054245}, {'id': 16, 'seek': 8300, 'start': 98.0, 'end': 104.0, 'text': ' able to damage the DNA of these pathogens, we can be able to eliminate these pathogens.', 'tokens': [51114, 1075, 281, 4344, 264, 8272, 295, 613, 44760, 11, 321, 393, 312, 1075, 281, 13819, 613, 44760, 13, 51414], 'temperature': 0.0, 'avg_logprob': -0.32120824839970835, 'compression_ratio': 1.4759358288770053, 'no_speech_prob': 0.0873517245054245}, {'id': 17, 'seek': 8300, 'start': 104.0, 'end': 109.0, 'text': ' So this plate has been incorporated into a machine or a robot', 'tokens': [51414, 407, 341, 5924, 575, 668, 21654, 666, 257, 3479, 420, 257, 7881, 51664], 'temperature': 0.0, 'avg_logprob': -0.32120824839970835, 'compression_ratio': 1.4759358288770053, 'no_speech_prob': 0.0873517245054245}, {'id': 18, 'seek': 10900, 'start': 109.0, 'end': 117.0, 'text': ' which has been designed to deliver 99% efficiency of automation reliability and diversity.', 'tokens': [50364, 597, 575, 668, 4761, 281, 4239, 11803, 4, 10493, 295, 17769, 24550, 293, 8811, 13, 50764], 'temperature': 0.0, 'avg_logprob': -0.24087903529037663, 'compression_ratio': 1.6201923076923077, 'no_speech_prob': 0.232777938246727}, {'id': 19, 'seek': 10900, 'start': 117.0, 'end': 122.0, 'text': ' So the machine by suiting this infection is going to be able to curb', 'tokens': [50764, 407, 264, 3479, 538, 459, 1748, 341, 11764, 307, 516, 281, 312, 1075, 281, 33731, 51014], 'temperature': 0.0, 'avg_logprob': -0.24087903529037663, 'compression_ratio': 1.6201923076923077, 'no_speech_prob': 0.232777938246727}, {'id': 20, 'seek': 10900, 'start': 122.0, 'end': 126.0, 'text': ' contaminations of the air-based neising or coughing,', 'tokens': [51014, 27562, 763, 295, 264, 1988, 12, 6032, 408, 3436, 420, 39375, 11, 51214], 'temperature': 0.0, 'avg_logprob': -0.24087903529037663, 'compression_ratio': 1.6201923076923077, 'no_speech_prob': 0.232777938246727}, {'id': 21, 'seek': 10900, 'start': 126.0, 'end': 131.0, 'text': ' contamination of objects by food, blood or other body fluids.', 'tokens': [51214, 33012, 295, 6565, 538, 1755, 11, 3390, 420, 661, 1772, 33033, 13, 51464], 'temperature': 0.0, 'avg_logprob': -0.24087903529037663, 'compression_ratio': 1.6201923076923077, 'no_speech_prob': 0.232777938246727}, {'id': 22, 'seek': 10900, 'start': 131.0, 'end': 136.0, 'text': ' In the end, even contamination by pests, which is a rare case,', 'tokens': [51464, 682, 264, 917, 11, 754, 33012, 538, 47645, 11, 597, 307, 257, 5892, 1389, 11, 51714], 'temperature': 0.0, 'avg_logprob': -0.24087903529037663, 'compression_ratio': 1.6201923076923077, 'no_speech_prob': 0.232777938246727}, {'id': 23, 'seek': 13600, 'start': 136.0, 'end': 141.0, 'text': ' in the end we will have a cleaning environment and a safe place for treatment.', 'tokens': [50364, 294, 264, 917, 321, 486, 362, 257, 8924, 2823, 293, 257, 3273, 1081, 337, 5032, 13, 50614], 'temperature': 0.0, 'avg_logprob': -0.3030788375110161, 'compression_ratio': 1.6395939086294415, 'no_speech_prob': 0.23525720834732056}, {'id': 24, 'seek': 13600, 'start': 141.0, 'end': 145.0, 'text': ' How do we beat our competition?', 'tokens': [50614, 1012, 360, 321, 4224, 527, 6211, 30, 50814], 'temperature': 0.0, 'avg_logprob': -0.3030788375110161, 'compression_ratio': 1.6395939086294415, 'no_speech_prob': 0.23525720834732056}, {'id': 25, 'seek': 13600, 'start': 145.0, 'end': 148.0, 'text': ' How can we compete with other chemical disinfectants,', 'tokens': [50814, 1012, 393, 321, 11831, 365, 661, 7313, 33334, 1719, 11, 50964], 'temperature': 0.0, 'avg_logprob': -0.3030788375110161, 'compression_ratio': 1.6395939086294415, 'no_speech_prob': 0.23525720834732056}, {'id': 26, 'seek': 13600, 'start': 148.0, 'end': 151.0, 'text': ' which kill all the specific microorganisms?', 'tokens': [50964, 597, 1961, 439, 264, 2685, 49129, 13539, 30, 51114], 'temperature': 0.0, 'avg_logprob': -0.3030788375110161, 'compression_ratio': 1.6395939086294415, 'no_speech_prob': 0.23525720834732056}, {'id': 27, 'seek': 13600, 'start': 151.0, 'end': 156.0, 'text': ' So we have a variety, we kill all surface and immediate organisms.', 'tokens': [51114, 407, 321, 362, 257, 5673, 11, 321, 1961, 439, 3753, 293, 11629, 22110, 13, 51364], 'temperature': 0.0, 'avg_logprob': -0.3030788375110161, 'compression_ratio': 1.6395939086294415, 'no_speech_prob': 0.23525720834732056}, {'id': 28, 'seek': 13600, 'start': 156.0, 'end': 160.0, 'text': \" So we don't have a specific range, we kill all.\", 'tokens': [51364, 407, 321, 500, 380, 362, 257, 2685, 3613, 11, 321, 1961, 439, 13, 51564], 'temperature': 0.0, 'avg_logprob': -0.3030788375110161, 'compression_ratio': 1.6395939086294415, 'no_speech_prob': 0.23525720834732056}, {'id': 29, 'seek': 16000, 'start': 160.0, 'end': 166.0, 'text': ' Then we require a few operational level, like from 2 to 5,', 'tokens': [50364, 1396, 321, 3651, 257, 1326, 16607, 1496, 11, 411, 490, 568, 281, 1025, 11, 50664], 'temperature': 0.0, 'avg_logprob': -0.21247353424897064, 'compression_ratio': 1.7570621468926553, 'no_speech_prob': 0.6223406791687012}, {'id': 30, 'seek': 16000, 'start': 166.0, 'end': 168.0, 'text': ' to disinfect the whole hospital.', 'tokens': [50664, 281, 33334, 264, 1379, 4530, 13, 50764], 'temperature': 0.0, 'avg_logprob': -0.21247353424897064, 'compression_ratio': 1.7570621468926553, 'no_speech_prob': 0.6223406791687012}, {'id': 31, 'seek': 16000, 'start': 168.0, 'end': 174.0, 'text': ' Whereas this chemical disinfectants require about 20 people who may be quite expensive', 'tokens': [50764, 13813, 341, 7313, 33334, 1719, 3651, 466, 945, 561, 567, 815, 312, 1596, 5124, 51064], 'temperature': 0.0, 'avg_logprob': -0.21247353424897064, 'compression_ratio': 1.7570621468926553, 'no_speech_prob': 0.6223406791687012}, {'id': 32, 'seek': 16000, 'start': 174.0, 'end': 181.0, 'text': ' to employ to disinfect the whole hospital, we take a short attain to disinfect.', 'tokens': [51064, 281, 3188, 281, 33334, 264, 1379, 4530, 11, 321, 747, 257, 2099, 23766, 281, 33334, 13, 51414], 'temperature': 0.0, 'avg_logprob': -0.21247353424897064, 'compression_ratio': 1.7570621468926553, 'no_speech_prob': 0.6223406791687012}, {'id': 33, 'seek': 16000, 'start': 181.0, 'end': 185.0, 'text': ' We take 5 to 10 minutes to disinfect the whole room,', 'tokens': [51414, 492, 747, 1025, 281, 1266, 2077, 281, 33334, 264, 1379, 1808, 11, 51614], 'temperature': 0.0, 'avg_logprob': -0.21247353424897064, 'compression_ratio': 1.7570621468926553, 'no_speech_prob': 0.6223406791687012}, {'id': 34, 'seek': 18500, 'start': 185.0, 'end': 192.0, 'text': ' whereby if you look at current competition, they take 30 to 50 minutes to disinfect the same room.', 'tokens': [50364, 36998, 498, 291, 574, 412, 2190, 6211, 11, 436, 747, 2217, 281, 2625, 2077, 281, 33334, 264, 912, 1808, 13, 50714], 'temperature': 0.0, 'avg_logprob': -0.3333025300100948, 'compression_ratio': 1.5580357142857142, 'no_speech_prob': 0.3702208697795868}, {'id': 35, 'seek': 18500, 'start': 192.0, 'end': 197.0, 'text': ' This is the fun bit, we achieve compared to them.', 'tokens': [50714, 639, 307, 264, 1019, 857, 11, 321, 4584, 5347, 281, 552, 13, 50964], 'temperature': 0.0, 'avg_logprob': -0.3333025300100948, 'compression_ratio': 1.5580357142857142, 'no_speech_prob': 0.3702208697795868}, {'id': 36, 'seek': 18500, 'start': 197.0, 'end': 200.0, 'text': ' Our unit cell goes for 3 million organan shaneaks.', 'tokens': [50964, 2621, 4985, 2815, 1709, 337, 805, 2459, 1798, 282, 402, 1929, 5461, 13, 51114], 'temperature': 0.0, 'avg_logprob': -0.3333025300100948, 'compression_ratio': 1.5580357142857142, 'no_speech_prob': 0.3702208697795868}, {'id': 37, 'seek': 18500, 'start': 200.0, 'end': 208.0, 'text': ' So if I was to compare it with a hospital or a similar institution using the same disinfectant,', 'tokens': [51114, 407, 498, 286, 390, 281, 6794, 309, 365, 257, 4530, 420, 257, 2531, 7818, 1228, 264, 912, 33334, 394, 11, 51514], 'temperature': 0.0, 'avg_logprob': -0.3333025300100948, 'compression_ratio': 1.5580357142857142, 'no_speech_prob': 0.3702208697795868}, {'id': 38, 'seek': 18500, 'start': 208.0, 'end': 213.0, 'text': ' you detect 10 liters of disinfectant, whatever it is,', 'tokens': [51514, 291, 5531, 1266, 32323, 295, 33334, 394, 11, 2035, 309, 307, 11, 51764], 'temperature': 0.0, 'avg_logprob': -0.3333025300100948, 'compression_ratio': 1.5580357142857142, 'no_speech_prob': 0.3702208697795868}, {'id': 39, 'seek': 21300, 'start': 213.0, 'end': 218.0, 'text': \" let's say you're buying your variety, but all of them are mounting to 10 liters,\", 'tokens': [50364, 718, 311, 584, 291, 434, 6382, 428, 5673, 11, 457, 439, 295, 552, 366, 22986, 281, 1266, 32323, 11, 50614], 'temperature': 0.0, 'avg_logprob': -0.24831748008728027, 'compression_ratio': 1.566137566137566, 'no_speech_prob': 0.3225666582584381}, {'id': 40, 'seek': 21300, 'start': 218.0, 'end': 220.0, 'text': ' at least that was.', 'tokens': [50614, 412, 1935, 300, 390, 13, 50714], 'temperature': 0.0, 'avg_logprob': -0.24831748008728027, 'compression_ratio': 1.566137566137566, 'no_speech_prob': 0.3225666582584381}, {'id': 41, 'seek': 21300, 'start': 220.0, 'end': 226.0, 'text': \" Then if each goes for 10,000, and you're buying for a whole year,\", 'tokens': [50714, 1396, 498, 1184, 1709, 337, 1266, 11, 1360, 11, 293, 291, 434, 6382, 337, 257, 1379, 1064, 11, 51014], 'temperature': 0.0, 'avg_logprob': -0.24831748008728027, 'compression_ratio': 1.566137566137566, 'no_speech_prob': 0.3225666582584381}, {'id': 42, 'seek': 21300, 'start': 226.0, 'end': 234.0, 'text': \" you'd spend 3,300 and 60,000, which leaves you the imagine of 360,000,\", 'tokens': [51014, 291, 1116, 3496, 805, 11, 12566, 293, 4060, 11, 1360, 11, 597, 5510, 291, 264, 3811, 295, 13898, 11, 1360, 11, 51414], 'temperature': 0.0, 'avg_logprob': -0.24831748008728027, 'compression_ratio': 1.566137566137566, 'no_speech_prob': 0.3225666582584381}, {'id': 43, 'seek': 21300, 'start': 234.0, 'end': 239.0, 'text': ' which is quite a lot that you are serving with this device.', 'tokens': [51414, 597, 307, 1596, 257, 688, 300, 291, 366, 8148, 365, 341, 4302, 13, 51664], 'temperature': 0.0, 'avg_logprob': -0.24831748008728027, 'compression_ratio': 1.566137566137566, 'no_speech_prob': 0.3225666582584381}, {'id': 44, 'seek': 23900, 'start': 239.0, 'end': 245.0, 'text': \" So for one, if it's guaranteed you 8,000 hours, it can go beyond 8,000 hours,\", 'tokens': [50364, 407, 337, 472, 11, 498, 309, 311, 18031, 291, 1649, 11, 1360, 2496, 11, 309, 393, 352, 4399, 1649, 11, 1360, 2496, 11, 50664], 'temperature': 0.0, 'avg_logprob': -0.2515908309391567, 'compression_ratio': 1.780590717299578, 'no_speech_prob': 0.5973515510559082}, {'id': 45, 'seek': 23900, 'start': 245.0, 'end': 248.0, 'text': ' but our guarantee will hold you for that.', 'tokens': [50664, 457, 527, 10815, 486, 1797, 291, 337, 300, 13, 50814], 'temperature': 0.0, 'avg_logprob': -0.2515908309391567, 'compression_ratio': 1.780590717299578, 'no_speech_prob': 0.5973515510559082}, {'id': 46, 'seek': 23900, 'start': 248.0, 'end': 253.0, 'text': ' Then side effects to pass on your equipment, pass on your nail and your equipment.', 'tokens': [50814, 1396, 1252, 5065, 281, 1320, 322, 428, 5927, 11, 1320, 322, 428, 10173, 293, 428, 5927, 13, 51064], 'temperature': 0.0, 'avg_logprob': -0.2515908309391567, 'compression_ratio': 1.780590717299578, 'no_speech_prob': 0.5973515510559082}, {'id': 47, 'seek': 23900, 'start': 253.0, 'end': 256.0, 'text': ' We have no side effects to materials.', 'tokens': [51064, 492, 362, 572, 1252, 5065, 281, 5319, 13, 51214], 'temperature': 0.0, 'avg_logprob': -0.2515908309391567, 'compression_ratio': 1.780590717299578, 'no_speech_prob': 0.5973515510559082}, {'id': 48, 'seek': 23900, 'start': 256.0, 'end': 259.0, 'text': \" We are not flammable, we're in the moment of friendly,\", 'tokens': [51214, 492, 366, 406, 932, 5136, 712, 11, 321, 434, 294, 264, 1623, 295, 9208, 11, 51364], 'temperature': 0.0, 'avg_logprob': -0.2515908309391567, 'compression_ratio': 1.780590717299578, 'no_speech_prob': 0.5973515510559082}, {'id': 49, 'seek': 23900, 'start': 259.0, 'end': 262.0, 'text': ' which is not the case with chemical disinfectants.', 'tokens': [51364, 597, 307, 406, 264, 1389, 365, 7313, 33334, 1719, 13, 51514], 'temperature': 0.0, 'avg_logprob': -0.2515908309391567, 'compression_ratio': 1.780590717299578, 'no_speech_prob': 0.5973515510559082}, {'id': 50, 'seek': 23900, 'start': 262.0, 'end': 267.0, 'text': ' They cause erectations to skin, they cause corrosion to hospital equipment.', 'tokens': [51514, 814, 3082, 34201, 763, 281, 3178, 11, 436, 3082, 33876, 281, 4530, 5927, 13, 51764], 'temperature': 0.0, 'avg_logprob': -0.2515908309391567, 'compression_ratio': 1.780590717299578, 'no_speech_prob': 0.5973515510559082}, {'id': 51, 'seek': 26700, 'start': 267.0, 'end': 273.0, 'text': ' So in case of a fire, you really need to be in that place.', 'tokens': [50364, 407, 294, 1389, 295, 257, 2610, 11, 291, 534, 643, 281, 312, 294, 300, 1081, 13, 50664], 'temperature': 0.0, 'avg_logprob': -0.482132233295244, 'compression_ratio': 1.5063829787234042, 'no_speech_prob': 0.0545521154999733}, {'id': 52, 'seek': 26700, 'start': 273.0, 'end': 276.0, 'text': ' So people are already buying into the technology.', 'tokens': [50664, 407, 561, 366, 1217, 6382, 666, 264, 2899, 13, 50814], 'temperature': 0.0, 'avg_logprob': -0.482132233295244, 'compression_ratio': 1.5063829787234042, 'no_speech_prob': 0.0545521154999733}, {'id': 53, 'seek': 26700, 'start': 276.0, 'end': 284.0, 'text': ' This was a testimony from Dr. Maria Nanyung at the head of Ensemblea Homecare.', 'tokens': [50814, 639, 390, 257, 15634, 490, 2491, 13, 12734, 426, 1325, 1063, 412, 264, 1378, 295, 2193, 37227, 64, 8719, 5685, 13, 51214], 'temperature': 0.0, 'avg_logprob': -0.482132233295244, 'compression_ratio': 1.5063829787234042, 'no_speech_prob': 0.0545521154999733}, {'id': 54, 'seek': 26700, 'start': 284.0, 'end': 286.0, 'text': ' How ready are we?', 'tokens': [51214, 1012, 1919, 366, 321, 30, 51314], 'temperature': 0.0, 'avg_logprob': -0.482132233295244, 'compression_ratio': 1.5063829787234042, 'no_speech_prob': 0.0545521154999733}, {'id': 55, 'seek': 26700, 'start': 286.0, 'end': 291.0, 'text': \" So we have already confirmed the steward and we're working with the Uganda Tomecanagic Center\", 'tokens': [51314, 407, 321, 362, 1217, 11341, 264, 2126, 1007, 293, 321, 434, 1364, 365, 264, 48764, 314, 423, 7035, 559, 299, 5169, 51564], 'temperature': 0.0, 'avg_logprob': -0.482132233295244, 'compression_ratio': 1.5063829787234042, 'no_speech_prob': 0.0545521154999733}, {'id': 56, 'seek': 26700, 'start': 291.0, 'end': 294.0, 'text': ' for the regulation, and they are really supporting us.', 'tokens': [51564, 337, 264, 15062, 11, 293, 436, 366, 534, 7231, 505, 13, 51714], 'temperature': 0.0, 'avg_logprob': -0.482132233295244, 'compression_ratio': 1.5063829787234042, 'no_speech_prob': 0.0545521154999733}, {'id': 57, 'seek': 29400, 'start': 294.0, 'end': 300.0, 'text': ' We have developed the first prototype, which is shown there, that is in the lab.', 'tokens': [50364, 492, 362, 4743, 264, 700, 19475, 11, 597, 307, 4898, 456, 11, 300, 307, 294, 264, 2715, 13, 50664], 'temperature': 0.0, 'avg_logprob': -0.1286778091102518, 'compression_ratio': 1.742081447963801, 'no_speech_prob': 0.6510360836982727}, {'id': 58, 'seek': 29400, 'start': 300.0, 'end': 305.0, 'text': ' We are taking six months into the rapid prototyping and developing the next prototype,', 'tokens': [50664, 492, 366, 1940, 2309, 2493, 666, 264, 7558, 46219, 3381, 293, 6416, 264, 958, 19475, 11, 50914], 'temperature': 0.0, 'avg_logprob': -0.1286778091102518, 'compression_ratio': 1.742081447963801, 'no_speech_prob': 0.6510360836982727}, {'id': 59, 'seek': 29400, 'start': 305.0, 'end': 308.0, 'text': ' which we are going to use in piloting.', 'tokens': [50914, 597, 321, 366, 516, 281, 764, 294, 9691, 278, 13, 51064], 'temperature': 0.0, 'avg_logprob': -0.1286778091102518, 'compression_ratio': 1.742081447963801, 'no_speech_prob': 0.6510360836982727}, {'id': 60, 'seek': 29400, 'start': 308.0, 'end': 316.0, 'text': ' So actually two out of 165 hospitals in Uganda are willing to try out this technology for during our piloting.', 'tokens': [51064, 407, 767, 732, 484, 295, 3165, 20, 13014, 294, 48764, 366, 4950, 281, 853, 484, 341, 2899, 337, 1830, 527, 9691, 278, 13, 51464], 'temperature': 0.0, 'avg_logprob': -0.1286778091102518, 'compression_ratio': 1.742081447963801, 'no_speech_prob': 0.6510360836982727}, {'id': 61, 'seek': 29400, 'start': 316.0, 'end': 320.0, 'text': ' So we are looking towards to do that piloting and getting feedback.', 'tokens': [51464, 407, 321, 366, 1237, 3030, 281, 360, 300, 9691, 278, 293, 1242, 5824, 13, 51664], 'temperature': 0.0, 'avg_logprob': -0.1286778091102518, 'compression_ratio': 1.742081447963801, 'no_speech_prob': 0.6510360836982727}, {'id': 62, 'seek': 32000, 'start': 321.0, 'end': 326.0, 'text': ' And the next two years we will hope to reach the market or sooner.', 'tokens': [50414, 400, 264, 958, 732, 924, 321, 486, 1454, 281, 2524, 264, 2142, 420, 15324, 13, 50664], 'temperature': 0.0, 'avg_logprob': -0.30198913667260147, 'compression_ratio': 1.5204081632653061, 'no_speech_prob': 0.09745962172746658}, {'id': 63, 'seek': 32000, 'start': 326.0, 'end': 333.0, 'text': \" So we'll have after that 12 months piloting, we're hoping to get the market.\", 'tokens': [50664, 407, 321, 603, 362, 934, 300, 2272, 2493, 9691, 278, 11, 321, 434, 7159, 281, 483, 264, 2142, 13, 51014], 'temperature': 0.0, 'avg_logprob': -0.30198913667260147, 'compression_ratio': 1.5204081632653061, 'no_speech_prob': 0.09745962172746658}, {'id': 64, 'seek': 32000, 'start': 333.0, 'end': 335.0, 'text': ' So our final structure.', 'tokens': [51014, 407, 527, 2572, 3877, 13, 51114], 'temperature': 0.0, 'avg_logprob': -0.30198913667260147, 'compression_ratio': 1.5204081632653061, 'no_speech_prob': 0.09745962172746658}, {'id': 65, 'seek': 32000, 'start': 335.0, 'end': 340.0, 'text': ' So how did we arrive at the press being the remuner?', 'tokens': [51114, 407, 577, 630, 321, 8881, 412, 264, 1886, 885, 264, 890, 409, 260, 30, 51364], 'temperature': 0.0, 'avg_logprob': -0.30198913667260147, 'compression_ratio': 1.5204081632653061, 'no_speech_prob': 0.09745962172746658}, {'id': 66, 'seek': 32000, 'start': 340.0, 'end': 347.0, 'text': ' So, I have discussed mainly include rent for where to set up the whole thing.', 'tokens': [51364, 407, 11, 286, 362, 7152, 8704, 4090, 6214, 337, 689, 281, 992, 493, 264, 1379, 551, 13, 51714], 'temperature': 0.0, 'avg_logprob': -0.30198913667260147, 'compression_ratio': 1.5204081632653061, 'no_speech_prob': 0.09745962172746658}, {'id': 67, 'seek': 34700, 'start': 348.0, 'end': 354.0, 'text': ' Then we need raw materials which take a lot of work, but it calls to have to ship them.', 'tokens': [50414, 1396, 321, 643, 8936, 5319, 597, 747, 257, 688, 295, 589, 11, 457, 309, 5498, 281, 362, 281, 5374, 552, 13, 50714], 'temperature': 0.0, 'avg_logprob': -0.4746805981891911, 'compression_ratio': 1.573394495412844, 'no_speech_prob': 0.27149492502212524}, {'id': 68, 'seek': 34700, 'start': 354.0, 'end': 360.0, 'text': ' Then shipping costs are a very important part of our transport and also investing a lot in the market.', 'tokens': [50714, 1396, 14122, 5497, 366, 257, 588, 1021, 644, 295, 527, 5495, 293, 611, 10978, 257, 688, 294, 264, 2142, 13, 51014], 'temperature': 0.0, 'avg_logprob': -0.4746805981891911, 'compression_ratio': 1.573394495412844, 'no_speech_prob': 0.27149492502212524}, {'id': 69, 'seek': 34700, 'start': 360.0, 'end': 365.0, 'text': \" Then we'll just show validation and tax.\", 'tokens': [51014, 1396, 321, 603, 445, 855, 24071, 293, 3366, 13, 51264], 'temperature': 0.0, 'avg_logprob': -0.4746805981891911, 'compression_ratio': 1.573394495412844, 'no_speech_prob': 0.27149492502212524}, {'id': 70, 'seek': 34700, 'start': 365.0, 'end': 374.0, 'text': ' So all of that, total capital would need around 4 million Uganda shootings, which is around some years dollars.', 'tokens': [51264, 407, 439, 295, 300, 11, 3217, 4238, 576, 643, 926, 1017, 2459, 48764, 44314, 11, 597, 307, 926, 512, 924, 3808, 13, 51714], 'temperature': 0.0, 'avg_logprob': -0.4746805981891911, 'compression_ratio': 1.573394495412844, 'no_speech_prob': 0.27149492502212524}, {'id': 71, 'seek': 37400, 'start': 374.0, 'end': 379.0, 'text': ' Then how many needs do we need to get into break even?', 'tokens': [50364, 1396, 577, 867, 2203, 360, 321, 643, 281, 483, 666, 1821, 754, 30, 50614], 'temperature': 0.0, 'avg_logprob': -0.3049453409706674, 'compression_ratio': 1.6923076923076923, 'no_speech_prob': 0.18134211003780365}, {'id': 72, 'seek': 37400, 'start': 379.0, 'end': 381.0, 'text': ' We need to own a seven units actually.', 'tokens': [50614, 492, 643, 281, 1065, 257, 3407, 6815, 767, 13, 50714], 'temperature': 0.0, 'avg_logprob': -0.3049453409706674, 'compression_ratio': 1.6923076923076923, 'no_speech_prob': 0.18134211003780365}, {'id': 73, 'seek': 37400, 'start': 381.0, 'end': 382.0, 'text': ' Seven.', 'tokens': [50714, 14868, 13, 50764], 'temperature': 0.0, 'avg_logprob': -0.3049453409706674, 'compression_ratio': 1.6923076923076923, 'no_speech_prob': 0.18134211003780365}, {'id': 74, 'seek': 37400, 'start': 382.0, 'end': 389.0, 'text': ' So actually one hospital can make us break even as that making profit.', 'tokens': [50764, 407, 767, 472, 4530, 393, 652, 505, 1821, 754, 382, 300, 1455, 7475, 13, 51114], 'temperature': 0.0, 'avg_logprob': -0.3049453409706674, 'compression_ratio': 1.6923076923076923, 'no_speech_prob': 0.18134211003780365}, {'id': 75, 'seek': 37400, 'start': 389.0, 'end': 392.0, 'text': ' So apparently looking for 10,000 in seed funding.', 'tokens': [51114, 407, 7970, 1237, 337, 1266, 11, 1360, 294, 8871, 6137, 13, 51264], 'temperature': 0.0, 'avg_logprob': -0.3049453409706674, 'compression_ratio': 1.6923076923076923, 'no_speech_prob': 0.18134211003780365}, {'id': 76, 'seek': 37400, 'start': 392.0, 'end': 400.0, 'text': ' 10,000 is aimed at finding out prototyping, finding out piloting into these hospitals,', 'tokens': [51264, 1266, 11, 1360, 307, 20540, 412, 5006, 484, 46219, 3381, 11, 5006, 484, 9691, 278, 666, 613, 13014, 11, 51664], 'temperature': 0.0, 'avg_logprob': -0.3049453409706674, 'compression_ratio': 1.6923076923076923, 'no_speech_prob': 0.18134211003780365}, {'id': 77, 'seek': 40000, 'start': 400.0, 'end': 408.0, 'text': ' and validating getting the necessary certifications to begin selling the product.', 'tokens': [50364, 293, 7363, 990, 1242, 264, 4818, 5351, 7833, 281, 1841, 6511, 264, 1674, 13, 50764], 'temperature': 0.0, 'avg_logprob': -0.22517577084628018, 'compression_ratio': 1.5675675675675675, 'no_speech_prob': 0.10582294315099716}, {'id': 78, 'seek': 40000, 'start': 408.0, 'end': 410.0, 'text': ' Our team.', 'tokens': [50764, 2621, 1469, 13, 50864], 'temperature': 0.0, 'avg_logprob': -0.22517577084628018, 'compression_ratio': 1.5675675675675675, 'no_speech_prob': 0.10582294315099716}, {'id': 79, 'seek': 40000, 'start': 410.0, 'end': 419.0, 'text': ' Our team is made of many young engineers who are very curious and want to have their first technologies to the market.', 'tokens': [50864, 2621, 1469, 307, 1027, 295, 867, 2037, 11955, 567, 366, 588, 6369, 293, 528, 281, 362, 641, 700, 7943, 281, 264, 2142, 13, 51314], 'temperature': 0.0, 'avg_logprob': -0.22517577084628018, 'compression_ratio': 1.5675675675675675, 'no_speech_prob': 0.10582294315099716}, {'id': 80, 'seek': 40000, 'start': 419.0, 'end': 425.0, 'text': ' So have a medical worker, a medical student from the school of health sciences,', 'tokens': [51314, 407, 362, 257, 4625, 11346, 11, 257, 4625, 3107, 490, 264, 1395, 295, 1585, 17677, 11, 51614], 'temperature': 0.0, 'avg_logprob': -0.22517577084628018, 'compression_ratio': 1.5675675675675675, 'no_speech_prob': 0.10582294315099716}, {'id': 81, 'seek': 42500, 'start': 425.0, 'end': 428.0, 'text': ' and three engineers.', 'tokens': [50364, 293, 1045, 11955, 13, 50514], 'temperature': 0.0, 'avg_logprob': -0.3843395233154297, 'compression_ratio': 1.3424657534246576, 'no_speech_prob': 0.21750713884830475}, {'id': 82, 'seek': 42500, 'start': 428.0, 'end': 440.0, 'text': ' And our devices are currently Mr. Brand, who has succeeded actually in Mama Ope,', 'tokens': [50514, 400, 527, 5759, 366, 4362, 2221, 13, 11119, 11, 567, 575, 20263, 767, 294, 17775, 422, 494, 11, 51114], 'temperature': 0.0, 'avg_logprob': -0.3843395233154297, 'compression_ratio': 1.3424657534246576, 'no_speech_prob': 0.21750713884830475}, {'id': 83, 'seek': 42500, 'start': 440.0, 'end': 445.0, 'text': ' Kawama, how have been, who has done a lot of innovations?', 'tokens': [51114, 31795, 2404, 11, 577, 362, 668, 11, 567, 575, 1096, 257, 688, 295, 24283, 30, 51364], 'temperature': 0.0, 'avg_logprob': -0.3843395233154297, 'compression_ratio': 1.3424657534246576, 'no_speech_prob': 0.21750713884830475}, {'id': 84, 'seek': 42500, 'start': 445.0, 'end': 447.0, 'text': ' Thank you.', 'tokens': [51364, 1044, 291, 13, 51464], 'temperature': 0.0, 'avg_logprob': -0.3843395233154297, 'compression_ratio': 1.3424657534246576, 'no_speech_prob': 0.21750713884830475}, {'id': 85, 'seek': 42500, 'start': 447.0, 'end': 450.0, 'text': ' So we look for it to see.', 'tokens': [51464, 407, 321, 574, 337, 309, 281, 536, 13, 51614], 'temperature': 0.0, 'avg_logprob': -0.3843395233154297, 'compression_ratio': 1.3424657534246576, 'no_speech_prob': 0.21750713884830475}, {'id': 86, 'seek': 45000, 'start': 450.0, 'end': 462.0, 'text': ' I live by saying a clean place is a safe place, and a safe place is a health place.', 'tokens': [50364, 286, 1621, 538, 1566, 257, 2541, 1081, 307, 257, 3273, 1081, 11, 293, 257, 3273, 1081, 307, 257, 1585, 1081, 13, 50964], 'temperature': 0.0, 'avg_logprob': -0.21778385262740285, 'compression_ratio': 1.3689320388349515, 'no_speech_prob': 0.2552858889102936}, {'id': 87, 'seek': 45000, 'start': 462.0, 'end': 468.0, 'text': ' So we need this technology to make Uganda a better place.', 'tokens': [50964, 407, 321, 643, 341, 2899, 281, 652, 48764, 257, 1101, 1081, 13, 51264], 'temperature': 0.0, 'avg_logprob': -0.21778385262740285, 'compression_ratio': 1.3689320388349515, 'no_speech_prob': 0.2552858889102936}], 'language': 'en'}\n",
            "Keyboard interruption in main thread... closing server.\n",
            "Killing tunnel 127.0.0.1:7862 <> https://2c6570d6c97fcb52f7.gradio.live\n"
          ]
        },
        {
          "output_type": "execute_result",
          "data": {
            "text/plain": []
          },
          "metadata": {},
          "execution_count": 15
        }
      ]
    }
  ],
  "metadata": {
    "colab": {
      "provenance": [],
      "include_colab_link": true
    },
    "kernelspec": {
      "display_name": "Python 3",
      "name": "python3"
    },
    "language_info": {
      "name": "python"
    }
  },
  "nbformat": 4,
  "nbformat_minor": 0
}